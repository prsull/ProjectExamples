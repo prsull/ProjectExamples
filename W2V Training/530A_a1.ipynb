{
 "cells": [
  {
   "cell_type": "markdown",
   "metadata": {},
   "source": [
    "# LING 530A Assignment 1\n",
    "## Peter Sullivan\n",
    "\n",
    "### Preface\n",
    "\n",
    "While the Yelp dataset was available to be used for this assignment, I have instead chosen to use a dataset consisting of approximately ~300 Twitter users tweets (n=1 million) collected as part of an ongoing project. In addition I used [this word2vec tutorial](https://www.kaggle.com/pierremegret/gensim-word2vec-tutorial) the following resources were consulted in learning how to use word2vec as well as the [NLTK Book](https://www.nltk.org/book/) for general text processing techniques"
   ]
  },
  {
   "cell_type": "markdown",
   "metadata": {},
   "source": [
    "## Text Extraction\n",
    "\n",
    "The twitter data in question was written to different files across several different directories. Because twitter data is stored in JSON format, all we need to do is extract the full_text field from the JSON which I did here. I decided on saving the data in a pickle format for convenience. It could have just as easily been written to a text file."
   ]
  },
  {
   "cell_type": "code",
   "execution_count": null,
   "metadata": {},
   "outputs": [],
   "source": [
    "import pickle\n",
    "import os\n",
    "import sys\n",
    "import json\n",
    "import datetime\n",
    "from ast import literal_eval\n",
    "start_main_time = datetime.datetime.now()\n",
    "dname = sys.argv[1]\n",
    "wdir = os.getcwd()\n",
    "\n",
    "dir = wdir + \"/\" + dname + \"/\"\n",
    "files = os.listdir(dir)\n",
    "full_texts = []\n",
    "\n",
    "count = 0\n",
    "\n",
    "for file in files:\n",
    "    with open(dir + file, 'r', encoding='utf-8') as fp:\n",
    "        print(\"trying file number: \" + str(count) + \" - \" + dir + file)\n",
    "        count += 1\n",
    "        for line in fp:\n",
    "            full_texts.append(json.loads(literal_eval(line))[\"full_text\"])\n",
    "outputfile = dname + \"_extractedtext.pkl\"\n",
    "with open(outputfile, 'wb') as fp:\n",
    "    pickle.dump(full_texts, fp)\n",
    "print(\"Main Script Duration: {}\".format(datetime.datetime.now() - start_main_time))"
   ]
  },
  {
   "cell_type": "markdown",
   "metadata": {},
   "source": [
    "## Word Frequency\n",
    "\n",
    "For the word frequencies, we simply need to load all of the words into a default dictionary structure and then count the instances of each occurance. Because we have not yet really preprocessed the data at this point, it reflects many common twitter words (ex: RT) or extremely common English words (ex: the, to, a), that may have little actual semantic information. This illustrates the importance of pre-processing the data to remove frequent words that would make semantic analysis difficult."
   ]
  },
  {
   "cell_type": "code",
   "execution_count": 4,
   "metadata": {},
   "outputs": [
    {
     "name": "stdout",
     "output_type": "stream",
     "text": [
      "[('RT', 625040), ('the', 466324), ('to', 361573), ('a', 247059), ('of', 240324), ('and', 209697), ('is', 200775), ('', 193792), ('in', 175621), ('for', 146655), ('I', 123116), ('you', 118431), ('on', 98003), ('that', 97816), ('are', 94163), ('The', 75094), ('with', 72494), ('be', 70492), ('&amp;', 68010)]\n"
     ]
    }
   ],
   "source": [
    "from collections import defaultdict\n",
    "with open(\"fulltexts.pkl\",\"rb\") as fp:\n",
    "    fulltexts = pickle.load(fp)\n",
    "\n",
    "words = defaultdict(int)\n",
    "for sentence in fulltexts:\n",
    "    for word in sentence.split(\" \"):\n",
    "        words[word] +=1\n",
    "sorted_dict = sorted(words.items(), key=lambda kv:kv[1], reverse=True)\n",
    "print(sorted_dict[0:19])\n",
    "\n"
   ]
  },
  {
   "cell_type": "markdown",
   "metadata": {},
   "source": [
    "## Pre-processing\n",
    "\n",
    "We need to remove these common words and clean up our data and SpaCy provides easy tools to do so."
   ]
  },
  {
   "cell_type": "code",
   "execution_count": null,
   "metadata": {},
   "outputs": [],
   "source": [
    "import re  # For preprocessing\n",
    "import pandas as pd  # For data handling\n",
    "from time import time  # To time our operations\n",
    "import spacy  # For preprocessing\n",
    "import logging  # Setting up the loggings to monitor gensim\n",
    "logging.basicConfig(format=\"%(levelname)s - %(asctime)s: %(message)s\", datefmt='%H:%M:%S', level=logging.INFO)\n"
   ]
  },
  {
   "cell_type": "markdown",
   "metadata": {},
   "source": [
    "Once our libraries are loaded, we will load up Spacy, in addition we'll add \"rt\" as a stopword to get rid of the frequent occurence in this dataset."
   ]
  },
  {
   "cell_type": "code",
   "execution_count": null,
   "metadata": {},
   "outputs": [],
   "source": [
    "nlp = spacy.load('en_core_web_sm', disable=['ner', 'parser'])\n",
    "#remember to add whatever words to spacy stoplist\n",
    "nlp.vocab[\"rt\"].is_stop = True"
   ]
  },
  {
   "cell_type": "markdown",
   "metadata": {},
   "source": [
    "Much of this next section is based on [the gensim word2vec tutorial](https://www.kaggle.com/pierremegret/gensim-word2vec-tutorial) due to its focus on preprocessing data.  In essence, we do a quick pass to remove any non-alphanumeric tokens, then remove stopwords, short words, remove any instance where the text would have been completely removed due to the cleaning, and then tokenize. "
   ]
  },
  {
   "cell_type": "code",
   "execution_count": null,
   "metadata": {},
   "outputs": [],
   "source": [
    "def cleaning(doc):\n",
    "    txt = [token.lemma_ for token in doc if not token.is_stop]\n",
    "    if len(txt) > 2:\n",
    "        return ' '.join(txt)\n",
    "\n",
    "brief_cleaning = (re.sub(\"https?:[A-Za-z1-9/.]+|[^A-Za-z']+\", ' ', str(row)).lower() for row in full_texts)\n",
    "t = time()\n",
    "full_texts = []\n",
    "txt = [cleaning(doc) for doc in nlp.pipe(brief_cleaning, batch_size=5000, n_threads=-1)]\n",
    "print('Time to clean up everything: {} mins'.format(round((time() - t) / 60, 2)))\n",
    "df_clean = pd.DataFrame({'clean': txt})\n",
    "df_clean = df_clean.dropna().drop_duplicates()\n",
    "sentences = [row.split() for row in df_clean['clean']]\n",
    "\n",
    "df_clean = ''\n",
    "txt = ''\n"
   ]
  },
  {
   "cell_type": "markdown",
   "metadata": {},
   "source": [
    "## Tagged Word Statistics\n",
    "\n",
    "We'll use NLTK to POS tag all of the sentences, Spacy, while seemingly quite good at POS tagging, simply took too long with the size of the dataset."
   ]
  },
  {
   "cell_type": "code",
   "execution_count": null,
   "metadata": {},
   "outputs": [],
   "source": [
    "tagged_sents = []\n",
    "\n",
    "for sent in sentences:\n",
    "    tagged_sents.append(nltk.pos_tag(sent))"
   ]
  },
  {
   "cell_type": "code",
   "execution_count": 1,
   "metadata": {},
   "outputs": [],
   "source": [
    "import pickle\n",
    "with open(\"tagg.pkl\",\"rb\") as fp:\n",
    "    tagged_sents = pickle.load(fp)"
   ]
  },
  {
   "cell_type": "markdown",
   "metadata": {},
   "source": [
    "### Random Words"
   ]
  },
  {
   "cell_type": "code",
   "execution_count": 5,
   "metadata": {},
   "outputs": [],
   "source": [
    "from collections import defaultdict\n",
    "words = defaultdict(int)\n",
    "for sent in tagged_sents:\n",
    "    for word in sent:\n",
    "        words[word[0]] +=1"
   ]
  },
  {
   "cell_type": "code",
   "execution_count": 11,
   "metadata": {},
   "outputs": [],
   "source": [
    "import random\n",
    "from math import log\n",
    "\n",
    "random_words = random.choices(list(words.keys()), k=100)\n",
    "\n",
    "log_freqs = []\n",
    "for wd in random_words:\n",
    "    log_freqs.append(log(words[wd]))"
   ]
  },
  {
   "cell_type": "code",
   "execution_count": 22,
   "metadata": {},
   "outputs": [
    {
     "data": {
      "text/plain": [
       "<BarContainer object of 100 artists>"
      ]
     },
     "execution_count": 22,
     "metadata": {},
     "output_type": "execute_result"
    },
    {
     "data": {
      "image/png": "[encoded data removed]",
      "text/plain": [
       "<Figure size 1200x480 with 1 Axes>"
      ]
     },
     "metadata": {
      "needs_background": "light"
     },
     "output_type": "display_data"
    }
   ],
   "source": [
    "%matplotlib inline\n",
    "import matplotlib.pyplot as plt\n",
    "from matplotlib.pyplot import figure\n",
    "figure(num=None, figsize=(15, 6), dpi=80)\n",
    "plt.xticks(rotation='vertical')\n",
    "plt.bar(random_words,height=log_freqs)"
   ]
  },
  {
   "cell_type": "markdown",
   "metadata": {},
   "source": [
    "### POS tags frequence"
   ]
  },
  {
   "cell_type": "code",
   "execution_count": 23,
   "metadata": {},
   "outputs": [],
   "source": [
    "tags = defaultdict(int)\n",
    "for sent in tagged_sents:\n",
    "    for word in sent:\n",
    "        tags[word[1]] +=1\n"
   ]
  },
  {
   "cell_type": "code",
   "execution_count": 24,
   "metadata": {},
   "outputs": [
    {
     "data": {
      "text/plain": [
       "<BarContainer object of 37 artists>"
      ]
     },
     "execution_count": 24,
     "metadata": {},
     "output_type": "execute_result"
    },
    {
     "data": {
      "image/png": "[encoded data removed]",
      "text/plain": [
       "<Figure size 1200x480 with 1 Axes>"
      ]
     },
     "metadata": {
      "needs_background": "light"
     },
     "output_type": "display_data"
    }
   ],
   "source": [
    "figure(num=None, figsize=(15, 6), dpi=80)\n",
    "plt.xticks(rotation='vertical')\n",
    "plt.bar(tags.keys(),height=tags.values())"
   ]
  },
  {
   "cell_type": "markdown",
   "metadata": {},
   "source": [
    "### Adjective frequence"
   ]
  },
  {
   "cell_type": "code",
   "execution_count": 26,
   "metadata": {},
   "outputs": [
    {
     "name": "stdout",
     "output_type": "stream",
     "text": [
      "[('good', 24032), ('american', 22330), ('s', 20065), ('great', 19177), ('white', 19026), ('new', 18197), ('illegal', 13937), ('u', 12672), ('amp', 11751), ('liberal', 11038), ('right', 9899), ('big', 9880), ('real', 8896), ('follow', 8840), ('usa', 8606), ('bad', 8365), ('hillary', 8105), ('t', 7996), ('free', 7976)]\n"
     ]
    }
   ],
   "source": [
    "adjs = defaultdict(int)\n",
    "for sent in tagged_sents:\n",
    "    for word in sent:\n",
    "        if word[1] ==\"JJ\":\n",
    "            adjs[word[0]] +=1\n",
    "sorted_adjs = sorted(adjs.items(), key=lambda kv:kv[1], reverse=True)\n",
    "print(sorted_adjs[0:19])"
   ]
  },
  {
   "cell_type": "markdown",
   "metadata": {},
   "source": [
    "### Proper nouns frequence"
   ]
  },
  {
   "cell_type": "code",
   "execution_count": 27,
   "metadata": {},
   "outputs": [
    {
     "name": "stdout",
     "output_type": "stream",
     "text": [
      "[('democrats', 28), ('know', 1), ('irs', 1), ('valley', 1), ('yr', 1), ('europeans', 1)]\n"
     ]
    }
   ],
   "source": [
    "nnps = defaultdict(int)\n",
    "for sent in tagged_sents:\n",
    "    for word in sent:\n",
    "        if word[1] ==\"NNPS\":\n",
    "            nnps[word[0]] +=1\n",
    "sorted_nnps = sorted(nnps.items(), key=lambda kv:kv[1], reverse=True)\n",
    "print(sorted_nnps[0:19])"
   ]
  },
  {
   "cell_type": "markdown",
   "metadata": {},
   "source": [
    "Yikes. Looks like NLTK is not good at recognizing proper nouns. This may in part be due to also putting everything lowercase during our pre-processing."
   ]
  },
  {
   "cell_type": "markdown",
   "metadata": {},
   "source": [
    "## word2vec\n",
    "\n",
    "### Training\n",
    "\n",
    "One nice thing to do, prior to running w2v's training, is to run a bigram phrase identification model on the data. Gensim just happens to have something built in with the Phrases module, and we will use this to get a collection of all the phrases prior to training our w2v model.  \n",
    "\n",
    "In terms of features for the model, we use a window size of ten based roughly on the average tweet length. Because we have millions of tweets and a vocabulary of ~240 million raw words, we can justify a model size of ~300 dimensions (an upper bound on the rule of thumb for setting it),"
   ]
  },
  {
   "cell_type": "code",
   "execution_count": null,
   "metadata": {},
   "outputs": [],
   "source": [
    "#grab phrases\n",
    "phrases = Phrases(sent, min_count=30, progress_per=10000)\n",
    "bigram = Phraser(phrases)\n",
    "sentences = bigram[sent]\n",
    "\n",
    "# run gensim\n",
    "model = Word2Vec(size=300, window=10, min_count=100, workers=multiprocessing.cpu_count())\n",
    "model.build_vocab(sentences, progress_per=10000)\n",
    "model.train(sentences, total_examples=model.corpus_count, epochs=30, report_delay=1)\n",
    "model.save(\"w2v.model\")\n",
    "end_main_time = datetime.datetime.now()\n",
    "print(\"Main Script Duration: {}\".format(end_main_time - start_main_time))"
   ]
  },
  {
   "cell_type": "markdown",
   "metadata": {},
   "source": [
    "### word2vec Adjectives\n",
    "\n",
    "For the adjectives we found before here are the most similar words associated:"
   ]
  },
  {
   "cell_type": "code",
   "execution_count": 31,
   "metadata": {},
   "outputs": [
    {
     "data": {
      "text/plain": [
       "[('well', 0.5905184745788574),\n",
       " ('great', 0.5738784670829773),\n",
       " ('bad', 0.5057375431060791)]"
      ]
     },
     "execution_count": 31,
     "metadata": {},
     "output_type": "execute_result"
    }
   ],
   "source": [
    "from gensim.models import Word2Vec\n",
    "model = Word2Vec.load(\"w2v_followers.model\")\n",
    "model.wv.most_similar(\"good\", topn=3)"
   ]
  },
  {
   "cell_type": "code",
   "execution_count": 32,
   "metadata": {},
   "outputs": [
    {
     "data": {
      "text/plain": [
       "[('america', 0.6221616268157959),\n",
       " ('american_citizen', 0.589103102684021),\n",
       " ('country', 0.540138304233551)]"
      ]
     },
     "execution_count": 32,
     "metadata": {},
     "output_type": "execute_result"
    }
   ],
   "source": [
    "model.wv.most_similar(\"american\", topn=3)"
   ]
  },
  {
   "cell_type": "code",
   "execution_count": 33,
   "metadata": {},
   "outputs": [
    {
     "data": {
      "text/plain": [
       "[('isn_t', 0.4840695261955261),\n",
       " ('know', 0.4095908999443054),\n",
       " ('say', 0.38897907733917236)]"
      ]
     },
     "execution_count": 33,
     "metadata": {},
     "output_type": "execute_result"
    }
   ],
   "source": [
    "model.wv.most_similar(\"s\", topn=3)"
   ]
  },
  {
   "cell_type": "code",
   "execution_count": 34,
   "metadata": {},
   "outputs": [
    {
     "data": {
      "text/plain": [
       "[('good', 0.5738784670829773),\n",
       " ('fantastic', 0.5682311058044434),\n",
       " ('awesome', 0.5602489709854126)]"
      ]
     },
     "execution_count": 34,
     "metadata": {},
     "output_type": "execute_result"
    }
   ],
   "source": [
    "model.wv.most_similar(\"great\", topn=3)"
   ]
  },
  {
   "cell_type": "code",
   "execution_count": 35,
   "metadata": {},
   "outputs": [
    {
     "data": {
      "text/plain": [
       "[('white_people', 0.6483970284461975),\n",
       " ('non_white', 0.5436877608299255),\n",
       " ('black', 0.5252323746681213)]"
      ]
     },
     "execution_count": 35,
     "metadata": {},
     "output_type": "execute_result"
    }
   ],
   "source": [
    "model.wv.most_similar(\"white\", topn=3)"
   ]
  },
  {
   "cell_type": "code",
   "execution_count": 36,
   "metadata": {},
   "outputs": [
    {
     "data": {
      "text/plain": [
       "[('late', 0.401083767414093),\n",
       " ('newly', 0.31115254759788513),\n",
       " ('boost', 0.30578941106796265)]"
      ]
     },
     "execution_count": 36,
     "metadata": {},
     "output_type": "execute_result"
    }
   ],
   "source": [
    "model.wv.most_similar(\"new\", topn=3)"
   ]
  },
  {
   "cell_type": "code",
   "execution_count": 37,
   "metadata": {},
   "outputs": [
    {
     "data": {
      "text/plain": [
       "[('illegal_alien', 0.7390050888061523),\n",
       " ('illegal_immigrant', 0.7041549682617188),\n",
       " ('illegalalien', 0.5633381605148315)]"
      ]
     },
     "execution_count": 37,
     "metadata": {},
     "output_type": "execute_result"
    }
   ],
   "source": [
    "model.wv.most_similar(\"illegal\", topn=3)"
   ]
  },
  {
   "cell_type": "code",
   "execution_count": 38,
   "metadata": {},
   "outputs": [
    {
     "data": {
      "text/plain": [
       "[('ur', 0.45698806643486023),\n",
       " ('ppl', 0.41990602016448975),\n",
       " ('n', 0.359674334526062)]"
      ]
     },
     "execution_count": 38,
     "metadata": {},
     "output_type": "execute_result"
    }
   ],
   "source": [
    "model.wv.most_similar(\"u\", topn=3)"
   ]
  },
  {
   "cell_type": "code",
   "execution_count": 39,
   "metadata": {},
   "outputs": [
    {
     "data": {
      "text/plain": [
       "[('w', 0.5693607330322266),\n",
       " ('continue', 0.44662171602249146),\n",
       " ('etc', 0.44407373666763306)]"
      ]
     },
     "execution_count": 39,
     "metadata": {},
     "output_type": "execute_result"
    }
   ],
   "source": [
    "model.wv.most_similar(\"amp\", topn=3)"
   ]
  },
  {
   "cell_type": "code",
   "execution_count": 40,
   "metadata": {},
   "outputs": [
    {
     "data": {
      "text/plain": [
       "[('leftist', 0.6220568418502808),\n",
       " ('left', 0.5661908984184265),\n",
       " ('libs', 0.519059956073761)]"
      ]
     },
     "execution_count": 40,
     "metadata": {},
     "output_type": "execute_result"
    }
   ],
   "source": [
    "model.wv.most_similar(\"liberal\", topn=3)"
   ]
  },
  {
   "cell_type": "code",
   "execution_count": 41,
   "metadata": {},
   "outputs": [
    {
     "data": {
      "text/plain": [
       "[('constitutional_right', 0.49206653237342834),\n",
       " ('want', 0.435799241065979),\n",
       " ('mean', 0.4293100833892822)]"
      ]
     },
     "execution_count": 41,
     "metadata": {},
     "output_type": "execute_result"
    }
   ],
   "source": [
    "model.wv.most_similar(\"right\", topn=3)"
   ]
  },
  {
   "cell_type": "code",
   "execution_count": 42,
   "metadata": {},
   "outputs": [
    {
     "data": {
      "text/plain": [
       "[('huge', 0.4910002648830414),\n",
       " ('major', 0.44849511981010437),\n",
       " ('yuge', 0.3808887004852295)]"
      ]
     },
     "execution_count": 42,
     "metadata": {},
     "output_type": "execute_result"
    }
   ],
   "source": [
    "model.wv.most_similar(\"big\", topn=3)"
   ]
  },
  {
   "cell_type": "code",
   "execution_count": 43,
   "metadata": {},
   "outputs": [
    {
     "data": {
      "text/plain": [
       "[('actual', 0.4049798846244812),\n",
       " ('true', 0.3885716199874878),\n",
       " ('know', 0.38780972361564636)]"
      ]
     },
     "execution_count": 43,
     "metadata": {},
     "output_type": "execute_result"
    }
   ],
   "source": [
    "model.wv.most_similar(\"real\", topn=3)"
   ]
  },
  {
   "cell_type": "code",
   "execution_count": 44,
   "metadata": {},
   "outputs": [
    {
     "data": {
      "text/plain": [
       "[('fb', 0.5274211168289185),\n",
       " ('follow_patriot', 0.5161277055740356),\n",
       " ('follower', 0.5070836544036865)]"
      ]
     },
     "execution_count": 44,
     "metadata": {},
     "output_type": "execute_result"
    }
   ],
   "source": [
    "model.wv.most_similar(\"follow\", topn=3)"
   ]
  },
  {
   "cell_type": "code",
   "execution_count": 45,
   "metadata": {},
   "outputs": [
    {
     "data": {
      "text/plain": [
       "[('america', 0.5759304165840149),\n",
       " ('country', 0.5161595344543457),\n",
       " ('nation', 0.4444349408149719)]"
      ]
     },
     "execution_count": 45,
     "metadata": {},
     "output_type": "execute_result"
    }
   ],
   "source": [
    "model.wv.most_similar(\"usa\", topn=3)"
   ]
  },
  {
   "cell_type": "code",
   "execution_count": 46,
   "metadata": {},
   "outputs": [
    {
     "data": {
      "text/plain": [
       "[('good', 0.5057376027107239),\n",
       " ('well', 0.4635527729988098),\n",
       " ('terrible', 0.4422219395637512)]"
      ]
     },
     "execution_count": 46,
     "metadata": {},
     "output_type": "execute_result"
    }
   ],
   "source": [
    "model.wv.most_similar(\"bad\", topn=3)"
   ]
  },
  {
   "cell_type": "code",
   "execution_count": 47,
   "metadata": {},
   "outputs": [
    {
     "data": {
      "text/plain": [
       "[('hillary_clinton', 0.678663969039917),\n",
       " ('clinton', 0.6536428928375244),\n",
       " ('hrc', 0.6039748191833496)]"
      ]
     },
     "execution_count": 47,
     "metadata": {},
     "output_type": "execute_result"
    }
   ],
   "source": [
    "model.wv.most_similar(\"hillary\", topn=3)"
   ]
  },
  {
   "cell_type": "code",
   "execution_count": 48,
   "metadata": {},
   "outputs": [
    {
     "data": {
      "text/plain": [
       "[('couldn_t', 0.3643495440483093),\n",
       " ('m', 0.35465720295906067),\n",
       " ('don_t', 0.3308106064796448)]"
      ]
     },
     "execution_count": 48,
     "metadata": {},
     "output_type": "execute_result"
    }
   ],
   "source": [
    "model.wv.most_similar(\"t\", topn=3)"
   ]
  },
  {
   "cell_type": "code",
   "execution_count": 49,
   "metadata": {},
   "outputs": [
    {
     "data": {
      "text/plain": [
       "[('freely', 0.3489445745944977),\n",
       " ('pay', 0.3408348560333252),\n",
       " ('free_healthcare', 0.3396105170249939)]"
      ]
     },
     "execution_count": 49,
     "metadata": {},
     "output_type": "execute_result"
    }
   ],
   "source": [
    "model.wv.most_similar(\"free\", topn=3)"
   ]
  },
  {
   "cell_type": "code",
   "execution_count": null,
   "metadata": {},
   "outputs": [],
   "source": []
  }
 ],
 "metadata": {
  "kernelspec": {
   "display_name": "Python 3",
   "language": "python",
   "name": "python3"
  },
  "language_info": {
   "codemirror_mode": {
    "name": "ipython",
    "version": 3
   },
   "file_extension": ".py",
   "mimetype": "text/x-python",
   "name": "python",
   "nbconvert_exporter": "python",
   "pygments_lexer": "ipython3",
   "version": "3.7.3"
  }
 },
 "nbformat": 4,
 "nbformat_minor": 2
}

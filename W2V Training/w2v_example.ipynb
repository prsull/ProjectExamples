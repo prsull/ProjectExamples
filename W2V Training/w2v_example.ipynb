{
 "cells": [
  {
   "cell_type": "code",
   "execution_count": 1,
   "metadata": {},
   "outputs": [],
   "source": [
    "from gensim.models import Word2Vec"
   ]
  },
  {
   "cell_type": "code",
   "execution_count": 2,
   "metadata": {},
   "outputs": [],
   "source": [
    "model = Word2Vec.load(\"w2v_big.model\")"
   ]
  },
  {
   "cell_type": "code",
   "execution_count": 3,
   "metadata": {},
   "outputs": [
    {
     "data": {
      "text/plain": [
       "58345"
      ]
     },
     "execution_count": 3,
     "metadata": {},
     "output_type": "execute_result"
    }
   ],
   "source": [
    "len(model.wv.vocab)"
   ]
  },
  {
   "cell_type": "code",
   "execution_count": 4,
   "metadata": {},
   "outputs": [
    {
     "name": "stderr",
     "output_type": "stream",
     "text": [
      "/home/prsull/py3spacy/lib/python3.6/site-packages/gensim/matutils.py:737: FutureWarning: Conversion of the second argument of issubdtype from `int` to `np.signedinteger` is deprecated. In future, it will be treated as `np.int64 == np.dtype(int).type`.\n",
      "  if np.issubdtype(vec.dtype, np.int):\n"
     ]
    },
    {
     "data": {
      "text/plain": [
       "[('president_trump', 0.7838071584701538),\n",
       " ('donald_trump', 0.7589191198348999),\n",
       " ('pre_trump', 0.7100875377655029),\n",
       " ('djt', 0.6277757883071899),\n",
       " ('presidenttrump', 0.6088762879371643),\n",
       " ('trum', 0.5898853540420532),\n",
       " ('president', 0.5784918665885925),\n",
       " ('potus', 0.5432358384132385),\n",
       " ('tru', 0.5130506753921509),\n",
       " ('realdonaldtrump', 0.5097498893737793)]"
      ]
     },
     "execution_count": 4,
     "metadata": {},
     "output_type": "execute_result"
    }
   ],
   "source": [
    "model.wv.most_similar(\"trump\")"
   ]
  },
  {
   "cell_type": "code",
   "execution_count": 5,
   "metadata": {},
   "outputs": [
    {
     "data": {
      "text/plain": [
       "[('nancy_pelosi', 0.8329347968101501),\n",
       " ('nancy', 0.7434161901473999),\n",
       " ('speaker_pelosi', 0.7010427117347717),\n",
       " ('pelosi_schumer', 0.6842084527015686),\n",
       " ('schumer', 0.672514021396637),\n",
       " ('speakerpelosi', 0.6451524496078491),\n",
       " ('nancypelosi', 0.5974453091621399),\n",
       " ('schumer_pelosi', 0.5804439783096313),\n",
       " ('nadler', 0.5551304817199707),\n",
       " ('nervous_nancy', 0.5202287435531616)]"
      ]
     },
     "execution_count": 5,
     "metadata": {},
     "output_type": "execute_result"
    }
   ],
   "source": [
    "model.wv.most_similar(\"pelosi\")"
   ]
  },
  {
   "cell_type": "code",
   "execution_count": 6,
   "metadata": {},
   "outputs": [
    {
     "data": {
      "text/plain": [
       "[('calif', 0.7310819029808044),\n",
       " ('californian', 0.7023156881332397),\n",
       " ('san_francisco', 0.6618516445159912),\n",
       " ('city', 0.6223440766334534),\n",
       " ('gavinnewsom', 0.6114034652709961),\n",
       " ('cali', 0.6056342720985413),\n",
       " ('illinois', 0.5987129211425781),\n",
       " ('gavinnewsom_california', 0.5834767818450928),\n",
       " ('newsom', 0.5808521509170532),\n",
       " ('los_angele', 0.5800730586051941)]"
      ]
     },
     "execution_count": 6,
     "metadata": {},
     "output_type": "execute_result"
    }
   ],
   "source": [
    "model.wv.most_similar(\"california\")"
   ]
  },
  {
   "cell_type": "code",
   "execution_count": 8,
   "metadata": {},
   "outputs": [
    {
     "data": {
      "text/plain": [
       "[('migration', 0.7339276671409607),\n",
       " ('illegal_immigration', 0.718574047088623),\n",
       " ('immigration_policy', 0.7031185626983643),\n",
       " ('legal_immigration', 0.6796534657478333),\n",
       " ('mass_immigration', 0.6604244112968445),\n",
       " ('immigrant', 0.6301463842391968),\n",
       " ('mass_migration', 0.6009396314620972),\n",
       " ('policy', 0.5889631509780884),\n",
       " ('immig', 0.584214448928833),\n",
       " ('border_security', 0.5751160383224487)]"
      ]
     },
     "execution_count": 8,
     "metadata": {},
     "output_type": "execute_result"
    }
   ],
   "source": [
    "model.wv.most_similar(\"immigration\")"
   ]
  },
  {
   "cell_type": "code",
   "execution_count": 9,
   "metadata": {},
   "outputs": [
    {
     "data": {
      "text/plain": [
       "[('border_wall', 0.7772015929222107),\n",
       " ('build_wall', 0.7691905498504639),\n",
       " ('wall_build', 0.7430278658866882),\n",
       " ('border_security', 0.6885086297988892),\n",
       " ('fence', 0.665351390838623),\n",
       " ('borderwall', 0.6449202299118042),\n",
       " ('wall_barrier', 0.6405981779098511),\n",
       " ('border_barrier', 0.6284637451171875),\n",
       " ('barrier', 0.6260806322097778),\n",
       " ('wall_fence', 0.6109764575958252)]"
      ]
     },
     "execution_count": 9,
     "metadata": {},
     "output_type": "execute_result"
    }
   ],
   "source": [
    "model.wv.most_similar(\"wall\")"
   ]
  },
  {
   "cell_type": "code",
   "execution_count": 10,
   "metadata": {},
   "outputs": [
    {
     "data": {
      "text/plain": [
       "[('maga_kag', 0.837948203086853),\n",
       " ('kag', 0.7107517719268799),\n",
       " ('makeamericagreatagain', 0.5315913558006287),\n",
       " ('keepamericagreat', 0.5205934047698975),\n",
       " ('americafirst', 0.5066944360733032),\n",
       " ('trumptrain', 0.49986910820007324),\n",
       " ('unite', 0.49236220121383667),\n",
       " ('patriot', 0.49116766452789307),\n",
       " ('votere', 0.48627740144729614),\n",
       " ('trumpsarmy', 0.4751230478286743)]"
      ]
     },
     "execution_count": 10,
     "metadata": {},
     "output_type": "execute_result"
    }
   ],
   "source": [
    "model.wv.most_similar(\"maga\")"
   ]
  },
  {
   "cell_type": "code",
   "execution_count": 11,
   "metadata": {},
   "outputs": [
    {
     "data": {
      "text/plain": [
       "[('potus', 0.6076090335845947),\n",
       " ('president_trump', 0.584395170211792),\n",
       " ('realdonaldtru', 0.5839952826499939),\n",
       " ('realdo', 0.56899094581604),\n",
       " ('reald', 0.563072681427002),\n",
       " ('realdonaldtrum', 0.5592485666275024),\n",
       " ('realdona', 0.5589100122451782),\n",
       " ('realdon', 0.5588647127151489),\n",
       " ('realdonal', 0.5449035167694092),\n",
       " ('realdonald', 0.5445395708084106)]"
      ]
     },
     "execution_count": 11,
     "metadata": {},
     "output_type": "execute_result"
    }
   ],
   "source": [
    "model.wv.most_similar(\"realdonaldtrump\")"
   ]
  },
  {
   "cell_type": "code",
   "execution_count": 12,
   "metadata": {},
   "outputs": [
    {
     "data": {
      "text/plain": [
       "[('leave_eu', 0.7211944460868835),\n",
       " ('brexiteer', 0.7117751836776733),\n",
       " ('deal_brexit', 0.7110657691955566),\n",
       " ('eu', 0.6934064626693726),\n",
       " ('farage', 0.6748891472816467),\n",
       " ('remainer', 0.6713975667953491),\n",
       " ('tory', 0.6555420160293579),\n",
       " ('brexit_betrayal', 0.6499291658401489),\n",
       " ('brexit_deal', 0.6479690074920654),\n",
       " ('mps', 0.6335873007774353)]"
      ]
     },
     "execution_count": 12,
     "metadata": {},
     "output_type": "execute_result"
    }
   ],
   "source": [
    "model.wv.most_similar(\"brexit\")"
   ]
  },
  {
   "cell_type": "code",
   "execution_count": 13,
   "metadata": {},
   "outputs": [
    {
     "data": {
      "text/plain": [
       "[('canadian', 0.7638220191001892),\n",
       " ('trudeau', 0.6562536954879761),\n",
       " ('australia', 0.623444139957428),\n",
       " ('alberta', 0.5968459844589233),\n",
       " ('justintrudeau', 0.5941500663757324),\n",
       " ('canada_trudeau', 0.588988184928894),\n",
       " ('justin_trudeau', 0.5844904780387878),\n",
       " ('ontario', 0.5686917304992676),\n",
       " ('uk', 0.5593214631080627),\n",
       " ('europe', 0.5581282377243042)]"
      ]
     },
     "execution_count": 13,
     "metadata": {},
     "output_type": "execute_result"
    }
   ],
   "source": [
    "model.wv.most_similar(\"canada\")"
   ]
  },
  {
   "cell_type": "code",
   "execution_count": 14,
   "metadata": {},
   "outputs": [
    {
     "data": {
      "text/plain": [
       "[('trade_deal', 0.6945316791534424),\n",
       " ('trade_agreement', 0.6305856704711914),\n",
       " ('usmca', 0.5950286388397217),\n",
       " ('tariff', 0.5797677040100098),\n",
       " ('tpp', 0.543197751045227),\n",
       " ('trade', 0.5053415298461914),\n",
       " ('paris_accord', 0.5043998956680298),\n",
       " ('steel_aluminum', 0.48897674679756165),\n",
       " ('manufacturing', 0.48878198862075806),\n",
       " ('agreement', 0.47833052277565)]"
      ]
     },
     "execution_count": 14,
     "metadata": {},
     "output_type": "execute_result"
    }
   ],
   "source": [
    "model.wv.most_similar(\"nafta\")"
   ]
  },
  {
   "cell_type": "code",
   "execution_count": 15,
   "metadata": {},
   "outputs": [
    {
     "data": {
      "text/plain": [
       "[('global_warming', 0.8765226602554321),\n",
       " ('climatechange', 0.8132455348968506),\n",
       " ('climate', 0.7997831106185913),\n",
       " ('climate_crisis', 0.685659646987915),\n",
       " ('globalwarming', 0.6465999484062195),\n",
       " ('global_warm', 0.6127280592918396),\n",
       " ('fossil_fuel', 0.5713390111923218),\n",
       " ('climate_alarmist', 0.5697629451751709),\n",
       " ('agw', 0.5639997720718384),\n",
       " ('environmental', 0.5630694627761841)]"
      ]
     },
     "execution_count": 15,
     "metadata": {},
     "output_type": "execute_result"
    }
   ],
   "source": [
    "model.wv.most_similar(\"climate_change\")"
   ]
  },
  {
   "cell_type": "code",
   "execution_count": 16,
   "metadata": {},
   "outputs": [
    {
     "data": {
      "text/plain": [
       "[('black', 0.6952710151672363),\n",
       " ('non_white', 0.6613974571228027),\n",
       " ('anti_white', 0.6598050594329834),\n",
       " ('white_male', 0.6297293901443481),\n",
       " ('minority', 0.5983502268791199),\n",
       " ('poc', 0.5937882661819458),\n",
       " ('caucasian', 0.5902043581008911),\n",
       " ('asian', 0.584830641746521),\n",
       " ('racial', 0.5715490579605103),\n",
       " ('racist', 0.5569568872451782)]"
      ]
     },
     "execution_count": 16,
     "metadata": {},
     "output_type": "execute_result"
    }
   ],
   "source": [
    "model.wv.most_similar(\"white\")"
   ]
  },
  {
   "cell_type": "code",
   "execution_count": 17,
   "metadata": {},
   "outputs": [
    {
     "data": {
      "text/plain": [
       "[('gcochran', 0.5318204164505005),\n",
       " ('racial_difference', 0.508362889289856),\n",
       " ('genetic', 0.47079232335090637),\n",
       " ('east_asian', 0.46984294056892395),\n",
       " ('hbd', 0.46475374698638916),\n",
       " ('kirkegaardemil', 0.46316102147102356),\n",
       " ('epoe', 0.4583927392959595),\n",
       " ('race_realism', 0.45437535643577576),\n",
       " ('itsbirdemic', 0.45274636149406433),\n",
       " ('generally', 0.45060116052627563)]"
      ]
     },
     "execution_count": 17,
     "metadata": {},
     "output_type": "execute_result"
    }
   ],
   "source": [
    "model.wv.most_similar(\"race_realist\")"
   ]
  },
  {
   "cell_type": "code",
   "execution_count": 18,
   "metadata": {},
   "outputs": [
    {
     "data": {
      "text/plain": [
       "[('think', 0.7402248382568359),\n",
       " ('obviously', 0.6966269016265869),\n",
       " ('suppose', 0.6769144535064697),\n",
       " ('simply', 0.6466658115386963),\n",
       " ('thing', 0.6444177627563477),\n",
       " ('honestly', 0.6403730511665344),\n",
       " ('probably', 0.6313527226448059),\n",
       " ('actual', 0.620635449886322),\n",
       " ('mean', 0.6160078048706055),\n",
       " ('apparently', 0.6157329082489014)]"
      ]
     },
     "execution_count": 18,
     "metadata": {},
     "output_type": "execute_result"
    }
   ],
   "source": [
    "model.wv.most_similar(\"actually\")"
   ]
  },
  {
   "cell_type": "code",
   "execution_count": 19,
   "metadata": {},
   "outputs": [
    {
     "data": {
      "text/plain": [
       "[('russian', 0.8193494081497192),\n",
       " ('putin', 0.7659410238265991),\n",
       " ('kremlin', 0.6226747035980225),\n",
       " ('ukraine', 0.6189374327659607),\n",
       " ('russi', 0.6069391965866089),\n",
       " ('collusion', 0.5987857580184937),\n",
       " ('russian_collusion', 0.5983692407608032),\n",
       " ('russia_collusion', 0.5769658088684082),\n",
       " ('russia_china', 0.5637613534927368),\n",
       " ('collude_russia', 0.5430367588996887)]"
      ]
     },
     "execution_count": 19,
     "metadata": {},
     "output_type": "execute_result"
    }
   ],
   "source": [
    "model.wv.most_similar(\"russia\")"
   ]
  },
  {
   "cell_type": "code",
   "execution_count": 20,
   "metadata": {},
   "outputs": [
    {
     "data": {
      "text/plain": [
       "[('john_mccain', 0.86173415184021),\n",
       " ('johnmccain', 0.6964588761329651),\n",
       " ('sen_mccain', 0.6612643003463745),\n",
       " ('senjohnmccain', 0.6526177525520325),\n",
       " ('romney', 0.6163854598999023),\n",
       " ('mcstain', 0.608701765537262),\n",
       " ('mccain_traitor', 0.5633698105812073),\n",
       " ('meghanmccain', 0.5506860017776489),\n",
       " ('songbird', 0.5235500931739807),\n",
       " ('rino', 0.5139545202255249)]"
      ]
     },
     "execution_count": 20,
     "metadata": {},
     "output_type": "execute_result"
    }
   ],
   "source": [
    "model.wv.most_similar(\"mccain\")"
   ]
  },
  {
   "cell_type": "code",
   "execution_count": 21,
   "metadata": {},
   "outputs": [
    {
     "data": {
      "text/plain": [
       "[('president_trump', 0.7838071584701538),\n",
       " ('donald_trump', 0.7589191198348999),\n",
       " ('pre_trump', 0.7100875377655029),\n",
       " ('djt', 0.6277757883071899),\n",
       " ('presidenttrump', 0.6088762879371643),\n",
       " ('trum', 0.5898853540420532),\n",
       " ('president', 0.5784918665885925),\n",
       " ('potus', 0.5432358384132385),\n",
       " ('tru', 0.5130506753921509),\n",
       " ('realdonaldtrump', 0.5097498893737793),\n",
       " ('tump', 0.4637850224971771),\n",
       " ('tr', 0.45176905393600464),\n",
       " ('presi', 0.43078625202178955),\n",
       " ('donaldtrump', 0.42936256527900696),\n",
       " ('obama', 0.4273456931114197),\n",
       " ('trump_supporter', 0.42627882957458496),\n",
       " ('dt', 0.41131824254989624),\n",
       " ('bannon', 0.4049503207206726),\n",
       " ('mr_president', 0.39460107684135437),\n",
       " ('republican', 0.3939794600009918),\n",
       " ('white_house', 0.39214468002319336),\n",
       " ('presidential', 0.39080357551574707),\n",
       " ('presid', 0.39027631282806396),\n",
       " ('hillary', 0.38949793577194214),\n",
       " ('dem', 0.3866685628890991),\n",
       " ('rand_paul', 0.3861684799194336),\n",
       " ('lindsey_graham', 0.3849882185459137),\n",
       " ('blompf', 0.38241931796073914),\n",
       " ('trumper', 0.3811497688293457),\n",
       " ('pence', 0.3809214234352112),\n",
       " ('trumpmovementus', 0.3791452646255493),\n",
       " ('donald', 0.37848150730133057),\n",
       " ('russia', 0.3783223330974579),\n",
       " ('midterm', 0.37521299719810486),\n",
       " ('te_cruz', 0.3731715679168701),\n",
       " ('putin', 0.36905598640441895),\n",
       " ('gope', 0.3688558042049408),\n",
       " ('mcconnell', 0.3659971356391907),\n",
       " ('trump_landslide', 0.3642790913581848),\n",
       " ('trumppence', 0.36371272802352905),\n",
       " ('presiden', 0.36248892545700073),\n",
       " ('gingrich', 0.36224275827407837),\n",
       " ('gop', 0.36184027791023254),\n",
       " ('bush', 0.3603493869304657),\n",
       " ('democrat', 0.3591277599334717),\n",
       " ('pre', 0.3590140640735626),\n",
       " ('kushner', 0.3575364351272583),\n",
       " ('javanka', 0.3564852178096771),\n",
       " ('mattis', 0.35516664385795593),\n",
       " ('mitch_mcconnell', 0.35488632321357727)]"
      ]
     },
     "execution_count": 21,
     "metadata": {},
     "output_type": "execute_result"
    }
   ],
   "source": [
    "model.wv.most_similar(\"trump\", topn=50)"
   ]
  },
  {
   "cell_type": "code",
   "execution_count": 22,
   "metadata": {},
   "outputs": [
    {
     "data": {
      "text/plain": [
       "[('kushn', 0.7013474106788635),\n",
       " ('jar_kushner', 0.685157835483551),\n",
       " ('jared_kushner', 0.5692081451416016),\n",
       " ('jar', 0.5091924667358398),\n",
       " ('vickypjward', 0.5024000406265259),\n",
       " ('javanka', 0.47686678171157837),\n",
       " ('sheldon_adelson', 0.4719421863555908),\n",
       " ('jared', 0.45660755038261414),\n",
       " ('bibi', 0.44929221272468567),\n",
       " ('ivanka', 0.44425585865974426)]"
      ]
     },
     "execution_count": 22,
     "metadata": {},
     "output_type": "execute_result"
    }
   ],
   "source": [
    "model.wv.most_similar(\"kushner\")"
   ]
  },
  {
   "cell_type": "code",
   "execution_count": 23,
   "metadata": {},
   "outputs": [
    {
     "data": {
      "text/plain": [
       "[('ivanka_trump', 0.726260781288147),\n",
       " ('ivankatrump', 0.5912005305290222),\n",
       " ('melania', 0.5532385110855103),\n",
       " ('kushner', 0.44425585865974426),\n",
       " ('kushn', 0.4293324947357178),\n",
       " ('melania_trump', 0.41357457637786865),\n",
       " ('javanka', 0.384407639503479),\n",
       " ('jared', 0.3823225498199463),\n",
       " ('flotus', 0.3782994747161865),\n",
       " ('jared_kushner', 0.3748444616794586)]"
      ]
     },
     "execution_count": 23,
     "metadata": {},
     "output_type": "execute_result"
    }
   ],
   "source": [
    "model.wv.most_similar(\"ivanka\")"
   ]
  },
  {
   "cell_type": "code",
   "execution_count": 24,
   "metadata": {},
   "outputs": [
    {
     "data": {
      "text/plain": [
       "[('female', 0.7309658527374268),\n",
       " ('feminist', 0.6755836009979248),\n",
       " ('man', 0.6639854907989502),\n",
       " ('male', 0.6159582734107971),\n",
       " ('wome', 0.6136457324028015),\n",
       " ('wom', 0.6080448031425476),\n",
       " ('young_girl', 0.578746497631073),\n",
       " ('girl', 0.5777130126953125),\n",
       " ('women', 0.5619869828224182),\n",
       " ('child', 0.5239903330802917)]"
      ]
     },
     "execution_count": 24,
     "metadata": {},
     "output_type": "execute_result"
    }
   ],
   "source": [
    "model.wv.most_similar(\"woman\")"
   ]
  },
  {
   "cell_type": "code",
   "execution_count": 25,
   "metadata": {},
   "outputs": [
    {
     "data": {
      "text/plain": [
       "[('woman', 0.6639854907989502),\n",
       " ('young_man', 0.5912085771560669),\n",
       " ('guy', 0.5547792911529541),\n",
       " ('person', 0.5419374704360962),\n",
       " ('boy', 0.5395734310150146),\n",
       " ('male', 0.5357754230499268),\n",
       " ('young_boy', 0.4858485758304596),\n",
       " ('girl', 0.48269516229629517),\n",
       " ('dude', 0.48027247190475464),\n",
       " ('teenager', 0.4722926616668701)]"
      ]
     },
     "execution_count": 25,
     "metadata": {},
     "output_type": "execute_result"
    }
   ],
   "source": [
    "model.wv.most_similar(\"man\")"
   ]
  },
  {
   "cell_type": "code",
   "execution_count": 26,
   "metadata": {},
   "outputs": [
    {
     "data": {
      "text/plain": [
       "[('hitler', 0.740799069404602),\n",
       " ('hitl', 0.7186745405197144),\n",
       " ('fascist', 0.6770687699317932),\n",
       " ('white_supremacist', 0.6238773465156555),\n",
       " ('nazi_germany', 0.6213681101799011),\n",
       " ('nazism', 0.6048120260238647),\n",
       " ('fascism', 0.5856671333312988),\n",
       " ('jew', 0.5722885131835938),\n",
       " ('national_socialist', 0.5656580328941345),\n",
       " ('nazi_fascist', 0.5651938915252686)]"
      ]
     },
     "execution_count": 26,
     "metadata": {},
     "output_type": "execute_result"
    }
   ],
   "source": [
    "model.wv.most_similar(\"nazi\")"
   ]
  },
  {
   "cell_type": "code",
   "execution_count": 27,
   "metadata": {},
   "outputs": [
    {
     "data": {
      "text/plain": [
       "[('israeli', 0.7066898345947266),\n",
       " ('israe', 0.685905396938324),\n",
       " ('palestine', 0.637363851070404),\n",
       " ('netanyahu', 0.6168463230133057),\n",
       " ('palestinian', 0.6161078214645386),\n",
       " ('isra', 0.6103813648223877),\n",
       " ('middle_east', 0.6099754571914673),\n",
       " ('isreal', 0.6035653352737427),\n",
       " ('jews', 0.5818278193473816),\n",
       " ('arab', 0.5678654313087463)]"
      ]
     },
     "execution_count": 27,
     "metadata": {},
     "output_type": "execute_result"
    }
   ],
   "source": [
    "model.wv.most_similar(\"israel\")"
   ]
  },
  {
   "cell_type": "code",
   "execution_count": 29,
   "metadata": {},
   "outputs": [
    {
     "data": {
      "text/plain": [
       "[('palestinian', 0.6301806569099426),\n",
       " ('european', 0.5830610394477844),\n",
       " ('african', 0.58262699842453),\n",
       " ('muslim', 0.5774810910224915),\n",
       " ('jew', 0.5715267062187195),\n",
       " ('palestine', 0.5695260763168335),\n",
       " ('israel', 0.5678653717041016),\n",
       " ('islamic', 0.5657822489738464),\n",
       " ('middle_eastern', 0.5589869022369385),\n",
       " ('arab_muslim', 0.5566414594650269)]"
      ]
     },
     "execution_count": 29,
     "metadata": {},
     "output_type": "execute_result"
    }
   ],
   "source": [
    "model.wv.most_similar(\"arab\")"
   ]
  },
  {
   "cell_type": "code",
   "execution_count": 30,
   "metadata": {},
   "outputs": [
    {
     "data": {
      "text/plain": [
       "[('african_american', 0.7175061702728271),\n",
       " ('white', 0.6952710151672363),\n",
       " ('racist', 0.5862175822257996),\n",
       " ('minority', 0.576423168182373),\n",
       " ('asian', 0.5674587488174438),\n",
       " ('racism', 0.5272043943405151),\n",
       " ('black_community', 0.5235430002212524),\n",
       " ('color', 0.5192767381668091),\n",
       " ('black_latino', 0.5167528390884399),\n",
       " ('gay', 0.5079100131988525)]"
      ]
     },
     "execution_count": 30,
     "metadata": {},
     "output_type": "execute_result"
    }
   ],
   "source": [
    "model.wv.most_similar(\"black\")"
   ]
  },
  {
   "cell_type": "code",
   "execution_count": 31,
   "metadata": {},
   "outputs": [
    {
     "data": {
      "text/plain": [
       "[('white', 0.584830641746521),\n",
       " ('indian', 0.5810154676437378),\n",
       " ('black', 0.5674587488174438),\n",
       " ('black_latino', 0.5488985776901245),\n",
       " ('african', 0.5482990741729736),\n",
       " ('east_asian', 0.5362536311149597),\n",
       " ('minority', 0.5349715948104858),\n",
       " ('non_white', 0.5130503177642822),\n",
       " ('caucasian', 0.5040509104728699),\n",
       " ('hispanic', 0.49839457869529724)]"
      ]
     },
     "execution_count": 31,
     "metadata": {},
     "output_type": "execute_result"
    }
   ],
   "source": [
    "model.wv.most_similar(\"asian\")"
   ]
  },
  {
   "cell_type": "code",
   "execution_count": 32,
   "metadata": {},
   "outputs": [
    {
     "data": {
      "text/plain": [
       "[('hispanic', 0.7669733166694641),\n",
       " ('latinos', 0.7229470610618591),\n",
       " ('african_american', 0.5415768027305603),\n",
       " ('black_latino', 0.5054715871810913),\n",
       " ('mexican', 0.5049604177474976),\n",
       " ('asian', 0.46913546323776245),\n",
       " ('black', 0.46737462282180786),\n",
       " ('hispanic_voter', 0.46438106894493103),\n",
       " ('latina', 0.45789897441864014),\n",
       " ('immigrant', 0.45237308740615845)]"
      ]
     },
     "execution_count": 32,
     "metadata": {},
     "output_type": "execute_result"
    }
   ],
   "source": [
    "model.wv.most_similar(\"latino\")"
   ]
  },
  {
   "cell_type": "code",
   "execution_count": 33,
   "metadata": {},
   "outputs": [
    {
     "data": {
      "text/plain": [
       "[('freedom_speech', 0.8546203374862671),\n",
       " ('st_amendment', 0.739193320274353),\n",
       " ('freespeech', 0.7378779649734497),\n",
       " ('free_expression', 0.6792166233062744),\n",
       " ('censorship', 0.6724281311035156),\n",
       " ('freedom_expression', 0.6538205146789551),\n",
       " ('hate_speech', 0.6370705366134644),\n",
       " ('censor', 0.6175236701965332),\n",
       " ('amendment_right', 0.5884106159210205),\n",
       " ('firstamendment', 0.5857893824577332)]"
      ]
     },
     "execution_count": 33,
     "metadata": {},
     "output_type": "execute_result"
    }
   ],
   "source": [
    "model.wv.most_similar(\"free_speech\")"
   ]
  },
  {
   "cell_type": "code",
   "execution_count": 34,
   "metadata": {},
   "outputs": [
    {
     "data": {
      "text/plain": [
       "[('abor', 0.696641743183136),\n",
       " ('abortio', 0.6945637464523315),\n",
       " ('kill_baby', 0.6894164085388184),\n",
       " ('aborti', 0.6775083541870117),\n",
       " ('abort', 0.6658876538276672),\n",
       " ('murder_baby', 0.6586463451385498),\n",
       " ('pro_abortion', 0.6441287398338318),\n",
       " ('abort_baby', 0.6383744478225708),\n",
       " ('infanticide', 0.6370769739151001),\n",
       " ('abortion_birth', 0.6237519979476929)]"
      ]
     },
     "execution_count": 34,
     "metadata": {},
     "output_type": "execute_result"
    }
   ],
   "source": [
    "model.wv.most_similar(\"abortion\")"
   ]
  },
  {
   "cell_type": "code",
   "execution_count": 35,
   "metadata": {},
   "outputs": [
    {
     "data": {
      "text/plain": [
       "[('america', 0.7277438640594482),\n",
       " ('country', 0.6475018262863159),\n",
       " ('nation', 0.5625563263893127),\n",
       " ('amer', 0.5407475233078003),\n",
       " ('countr', 0.5095272064208984),\n",
       " ('american', 0.5022180676460266),\n",
       " ('united_state', 0.49973246455192566),\n",
       " ('americ', 0.4995930790901184),\n",
       " ('ameri', 0.4968443214893341),\n",
       " ('americafirst', 0.4863929748535156)]"
      ]
     },
     "execution_count": 35,
     "metadata": {},
     "output_type": "execute_result"
    }
   ],
   "source": [
    "model.wv.most_similar(\"usa\")"
   ]
  },
  {
   "cell_type": "code",
   "execution_count": 36,
   "metadata": {},
   "outputs": [
    {
     "data": {
      "text/plain": [
       "[('trading', 0.6177176237106323),\n",
       " ('china', 0.6135221719741821),\n",
       " ('market', 0.5918961763381958),\n",
       " ('tariff', 0.5708895921707153),\n",
       " ('free_trade', 0.567334771156311),\n",
       " ('china_trade', 0.5534369945526123),\n",
       " ('business', 0.5359317064285278),\n",
       " ('negotiation', 0.5351765751838684),\n",
       " ('trade_deal', 0.5309232473373413),\n",
       " ('investment', 0.5303810834884644)]"
      ]
     },
     "execution_count": 36,
     "metadata": {},
     "output_type": "execute_result"
    }
   ],
   "source": [
    "model.wv.most_similar(\"trade\")"
   ]
  },
  {
   "cell_type": "code",
   "execution_count": 37,
   "metadata": {},
   "outputs": [
    {
     "data": {
      "text/plain": [
       "[('chinese', 0.7778288125991821),\n",
       " ('beijing', 0.6593151092529297),\n",
       " ('communist_china', 0.624212384223938),\n",
       " ('trade', 0.6135221719741821),\n",
       " ('huawei', 0.591123104095459),\n",
       " ('iran', 0.5751376748085022),\n",
       " ('ccp', 0.5709137916564941),\n",
       " ('beije', 0.5660377740859985),\n",
       " ('chicom', 0.5602678060531616),\n",
       " ('russia_china', 0.5583727955818176)]"
      ]
     },
     "execution_count": 37,
     "metadata": {},
     "output_type": "execute_result"
    }
   ],
   "source": [
    "model.wv.most_similar(\"china\")"
   ]
  },
  {
   "cell_type": "code",
   "execution_count": 38,
   "metadata": {},
   "outputs": [
    {
     "data": {
      "text/plain": [
       "[('bannon', 0.529830813407898),\n",
       " ('steve_bannon', 0.45777180790901184),\n",
       " ('hannity', 0.4143409729003906),\n",
       " ('sebastian_gorka', 0.39792001247406006),\n",
       " ('mcmaster', 0.391230046749115),\n",
       " ('priebus', 0.3902011513710022),\n",
       " ('coulter', 0.3832020163536072),\n",
       " ('ann_coulter', 0.3807307481765747),\n",
       " ('tucker', 0.37589019536972046),\n",
       " ('scaramucci', 0.3549313545227051)]"
      ]
     },
     "execution_count": 38,
     "metadata": {},
     "output_type": "execute_result"
    }
   ],
   "source": [
    "model.wv.most_similar(\"gorka\")"
   ]
  },
  {
   "cell_type": "code",
   "execution_count": 39,
   "metadata": {},
   "outputs": [
    {
     "data": {
      "text/plain": [
       "[('parkland_shoot', 0.6894444227218628),\n",
       " ('school_shoot', 0.6579741835594177),\n",
       " ('parkland_school', 0.6544015407562256),\n",
       " ('parkland_student', 0.599360466003418),\n",
       " ('nikolas_cruz', 0.5870987772941589),\n",
       " ('school_shooting', 0.582237720489502),\n",
       " ('sheriff_israel', 0.5647900104522705),\n",
       " ('parkland_shooter', 0.5634158849716187),\n",
       " ('parkland_survivor', 0.5588534474372864),\n",
       " ('scot_peterson', 0.5574038028717041)]"
      ]
     },
     "execution_count": 39,
     "metadata": {},
     "output_type": "execute_result"
    }
   ],
   "source": [
    "model.wv.most_similar(\"parkland\")"
   ]
  },
  {
   "cell_type": "code",
   "execution_count": 40,
   "metadata": {},
   "outputs": [
    {
     "data": {
      "text/plain": [
       "[('nra_nra', 0.7579073309898376),\n",
       " ('nra_member', 0.618025541305542),\n",
       " ('boycottnra', 0.5780942440032959),\n",
       " ('adefender', 0.5663033127784729),\n",
       " ('gun_owner', 0.5442236661911011),\n",
       " ('guncontrol', 0.5420491099357605),\n",
       " ('iamthenra', 0.5406092405319214),\n",
       " ('gunright', 0.5337148904800415),\n",
       " ('second_amendment', 0.5272507667541504),\n",
       " ('gun_safety', 0.5244597792625427)]"
      ]
     },
     "execution_count": 40,
     "metadata": {},
     "output_type": "execute_result"
    }
   ],
   "source": [
    "model.wv.most_similar(\"nra\")"
   ]
  },
  {
   "cell_type": "code",
   "execution_count": 41,
   "metadata": {},
   "outputs": [
    {
     "data": {
      "text/plain": [
       "[('european', 0.7683804035186768),\n",
       " ('germany', 0.7276644706726074),\n",
       " ('western_europe', 0.7156925201416016),\n",
       " ('britain', 0.7065228819847107),\n",
       " ('eastern_europe', 0.652270495891571),\n",
       " ('continent', 0.6516554355621338),\n",
       " ('africa', 0.6464601159095764),\n",
       " ('eu', 0.6421655416488647),\n",
       " ('france', 0.6416010856628418),\n",
       " ('west', 0.6387628316879272)]"
      ]
     },
     "execution_count": 41,
     "metadata": {},
     "output_type": "execute_result"
    }
   ],
   "source": [
    "model.wv.most_similar(\"europe\")"
   ]
  },
  {
   "cell_type": "code",
   "execution_count": 42,
   "metadata": {},
   "outputs": [
    {
     "data": {
      "text/plain": [
       "[('europe', 0.7683804035186768),\n",
       " ('culture', 0.6544057130813599),\n",
       " ('western', 0.6493752002716064),\n",
       " ('euro', 0.6453900337219238),\n",
       " ('ethnic', 0.6249794960021973),\n",
       " ('african', 0.621618390083313),\n",
       " ('german', 0.6153023838996887),\n",
       " ('western_european', 0.6151705980300903),\n",
       " ('continent', 0.6008439064025879),\n",
       " ('native', 0.5902405381202698)]"
      ]
     },
     "execution_count": 42,
     "metadata": {},
     "output_type": "execute_result"
    }
   ],
   "source": [
    "model.wv.most_similar(\"european\")"
   ]
  },
  {
   "cell_type": "code",
   "execution_count": 43,
   "metadata": {},
   "outputs": [
    {
     "data": {
      "text/plain": [
       "[('cultural', 0.7502989172935486),\n",
       " ('society', 0.7175489664077759),\n",
       " ('civilization', 0.6756366491317749),\n",
       " ('european', 0.6544057130813599),\n",
       " ('western_culture', 0.6288155317306519),\n",
       " ('identity', 0.6224784255027771),\n",
       " ('multiculturalism', 0.6159210205078125),\n",
       " ('western_civilization', 0.6095083951950073),\n",
       " ('culturally', 0.6094858050346375),\n",
       " ('religion', 0.6081273555755615)]"
      ]
     },
     "execution_count": 43,
     "metadata": {},
     "output_type": "execute_result"
    }
   ],
   "source": [
    "model.wv.most_similar(\"culture\")"
   ]
  },
  {
   "cell_type": "code",
   "execution_count": 44,
   "metadata": {},
   "outputs": [
    {
     "data": {
      "text/plain": [
       "[('western_civilization', 0.7499553561210632),\n",
       " ('civilisation', 0.7368103265762329),\n",
       " ('culture', 0.6756366491317749),\n",
       " ('society', 0.6585589647293091),\n",
       " ('humanity', 0.6473402380943298),\n",
       " ('nation', 0.6006295680999756),\n",
       " ('modern_world', 0.5917810201644897),\n",
       " ('mankind', 0.5877557396888733),\n",
       " ('western_society', 0.5841841697692871),\n",
       " ('century', 0.5776416063308716)]"
      ]
     },
     "execution_count": 44,
     "metadata": {},
     "output_type": "execute_result"
    }
   ],
   "source": [
    "model.wv.most_similar(\"civilization\")"
   ]
  },
  {
   "cell_type": "code",
   "execution_count": 45,
   "metadata": {},
   "outputs": [
    {
     "data": {
      "text/plain": [
       "[('bho', 0.7699946761131287),\n",
       " ('obama_administration', 0.7383611798286438),\n",
       " ('barack_obama', 0.736209511756897),\n",
       " ('barackobama', 0.7190209627151489),\n",
       " ('obama_admin', 0.6947914361953735),\n",
       " ('barry', 0.6814514398574829),\n",
       " ('barack', 0.6517446041107178),\n",
       " ('obamas', 0.648690938949585),\n",
       " ('obam', 0.635603666305542),\n",
       " ('obummer', 0.632095217704773)]"
      ]
     },
     "execution_count": 45,
     "metadata": {},
     "output_type": "execute_result"
    }
   ],
   "source": [
    "model.wv.most_similar(\"obama\")"
   ]
  },
  {
   "cell_type": "code",
   "execution_count": 46,
   "metadata": {},
   "outputs": [
    {
     "data": {
      "text/plain": [
       "[('scotus', 0.8159955739974976),\n",
       " ('supremecourt', 0.6811007261276245),\n",
       " ('court', 0.6302921175956726),\n",
       " ('federal_court', 0.6225963830947876),\n",
       " ('federal_judge', 0.6215859651565552),\n",
       " ('judge', 0.6053324937820435),\n",
       " ('th_circuit', 0.5997933149337769),\n",
       " ('appeal_court', 0.5969159603118896),\n",
       " ('neil_gorsuch', 0.5750706791877747),\n",
       " ('court_appeal', 0.5636599063873291)]"
      ]
     },
     "execution_count": 46,
     "metadata": {},
     "output_type": "execute_result"
    }
   ],
   "source": [
    "model.wv.most_similar(\"supreme_court\")"
   ]
  },
  {
   "cell_type": "code",
   "execution_count": 47,
   "metadata": {},
   "outputs": [
    {
     "data": {
      "text/plain": [
       "[('florida', 0.6476447582244873),\n",
       " ('arizona', 0.642810583114624),\n",
       " ('tx', 0.6172526478767395),\n",
       " ('houston', 0.6151139736175537),\n",
       " ('gregabbott_tx', 0.6101144552230835),\n",
       " ('texan', 0.5950067043304443),\n",
       " ('louisiana', 0.5805181860923767),\n",
       " ('tennessee', 0.5804330706596375),\n",
       " ('california', 0.5757911205291748),\n",
       " ('oklahoma', 0.5754694938659668)]"
      ]
     },
     "execution_count": 47,
     "metadata": {},
     "output_type": "execute_result"
    }
   ],
   "source": [
    "model.wv.most_similar(\"texas\")"
   ]
  },
  {
   "cell_type": "code",
   "execution_count": 48,
   "metadata": {},
   "outputs": [
    {
     "data": {
      "text/plain": [
       "[('ice_agent', 0.6365476250648499),\n",
       " ('icegov', 0.6046427488327026),\n",
       " ('immigration_custom', 0.5518264174461365),\n",
       " ('ice_arrest', 0.5412678122520447),\n",
       " ('dhs', 0.5292516350746155),\n",
       " ('cbp', 0.5099290609359741),\n",
       " ('border_patrol', 0.5015990734100342),\n",
       " ('homeland_security', 0.5009898543357849),\n",
       " ('sanctuary_city', 0.494289755821228),\n",
       " ('icegov_ice', 0.4886925220489502)]"
      ]
     },
     "execution_count": 48,
     "metadata": {},
     "output_type": "execute_result"
    }
   ],
   "source": [
    "model.wv.most_similar(\"ice\")"
   ]
  },
  {
   "cell_type": "code",
   "execution_count": 49,
   "metadata": {},
   "outputs": [
    {
     "data": {
      "text/plain": [
       "[('christianity', 0.7341402769088745),\n",
       " ('catholic', 0.6572126746177673),\n",
       " ('christian_faith', 0.639321506023407),\n",
       " ('religion', 0.6342493295669556),\n",
       " ('religious', 0.6219310164451599),\n",
       " ('christian_jews', 0.6133930087089539),\n",
       " ('muslim', 0.61294025182724),\n",
       " ('jew', 0.6109735369682312),\n",
       " ('islam', 0.6063371300697327),\n",
       " ('jews', 0.5877119302749634)]"
      ]
     },
     "execution_count": 49,
     "metadata": {},
     "output_type": "execute_result"
    }
   ],
   "source": [
    "model.wv.most_similar(\"christian\")"
   ]
  },
  {
   "cell_type": "code",
   "execution_count": 50,
   "metadata": {},
   "outputs": [
    {
     "data": {
      "text/plain": [
       "[('lazy_ass', 0.5771554708480835),\n",
       " ('uneducated', 0.5293693542480469),\n",
       " ('useless', 0.5096875429153442),\n",
       " ('worthless', 0.4999833106994629),\n",
       " ('ignorant', 0.4850688576698303),\n",
       " ('stupid', 0.4697074294090271),\n",
       " ('freeloader', 0.46820271015167236),\n",
       " ('unproductive', 0.4634358584880829),\n",
       " ('leech', 0.4570513367652893),\n",
       " ('productive', 0.45334070920944214)]"
      ]
     },
     "execution_count": 50,
     "metadata": {},
     "output_type": "execute_result"
    }
   ],
   "source": [
    "model.wv.most_similar(\"lazy\")"
   ]
  },
  {
   "cell_type": "code",
   "execution_count": 53,
   "metadata": {},
   "outputs": [
    {
     "data": {
      "text/plain": [
       "[('invasion', 0.7101678848266602),\n",
       " ('invade', 0.693614661693573),\n",
       " ('horde', 0.6555032730102539),\n",
       " ('foreign_invader', 0.6459804177284241),\n",
       " ('immigrant', 0.6211777925491333),\n",
       " ('refugee', 0.6110118627548218),\n",
       " ('illegal', 0.6073349714279175),\n",
       " ('migrant', 0.5937206745147705),\n",
       " ('foreigner', 0.5813653469085693),\n",
       " ('illegal_invader', 0.580650269985199)]"
      ]
     },
     "execution_count": 53,
     "metadata": {},
     "output_type": "execute_result"
    }
   ],
   "source": [
    "model.wv.most_similar(\"invader\")"
   ]
  },
  {
   "cell_type": "code",
   "execution_count": null,
   "metadata": {},
   "outputs": [],
   "source": []
  }
 ],
 "metadata": {
  "kernelspec": {
   "display_name": "Python 3",
   "language": "python",
   "name": "python3"
  },
  "language_info": {
   "codemirror_mode": {
    "name": "ipython",
    "version": 3
   },
   "file_extension": ".py",
   "mimetype": "text/x-python",
   "name": "python",
   "nbconvert_exporter": "python",
   "pygments_lexer": "ipython3",
   "version": "3.7.3"
  }
 },
 "nbformat": 4,
 "nbformat_minor": 2
}
